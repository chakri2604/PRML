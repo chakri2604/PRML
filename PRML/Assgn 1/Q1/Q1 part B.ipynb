{
 "cells": [
  {
   "cell_type": "code",
   "execution_count": 156,
   "id": "696f821d",
   "metadata": {},
   "outputs": [],
   "source": [
    "import numpy as np\n",
    "import pandas as pd\n",
    "import matplotlib.pyplot as plt\n",
    "from mpl_toolkits import mplot3d"
   ]
  },
  {
   "cell_type": "code",
   "execution_count": 157,
   "id": "d2cd3b1d",
   "metadata": {},
   "outputs": [],
   "source": [
    "trained_data_complete = np.loadtxt(\"train32.csv\",\n",
    "                 delimiter=\",\", dtype=float)"
   ]
  },
  {
   "cell_type": "code",
   "execution_count": 158,
   "id": "7f52cbb9",
   "metadata": {},
   "outputs": [],
   "source": [
    "X_train_data = trained_data_complete[:64,:2]\n",
    "Y_train_data = trained_data_complete[:64,2:3]\n",
    "X_validation_data = trained_data_complete[64:79,:2]\n",
    "Y_validation_data = trained_data_complete[64:79,2:3]"
   ]
  },
  {
   "cell_type": "code",
   "execution_count": 159,
   "id": "a02f68ea",
   "metadata": {},
   "outputs": [],
   "source": [
    "def normalize(X_data_set):\n",
    "    X1 = X_data_set[:X_data_set.shape[0],:1]\n",
    "    X2 = X_data_set[:X_data_set.shape[0],1:2]\n",
    "    mu1 = np.mean(X1)\n",
    "    sd1 = np.std(X1)\n",
    "    mu2 = np.mean(X2)\n",
    "    sd2 = np.std(X2)\n",
    "    for i in range(X_data_set.shape[0]):\n",
    "        X_data_set[i][0] = (X_data_set[i][0]-mu1)/sd1\n",
    "        X_data_set[i][1] = (X_data_set[i][1]-mu2)/sd2\n",
    "    return X_data_set"
   ]
  },
  {
   "cell_type": "markdown",
   "id": "caa8104e",
   "metadata": {},
   "source": [
    "Since we already find out the best model is of degree 3 , We will take degree 4 which is overfit"
   ]
  },
  {
   "cell_type": "code",
   "execution_count": 160,
   "id": "cba77c31",
   "metadata": {},
   "outputs": [],
   "source": [
    "def getXmat(k,data_set):\n",
    "    data_set = normalize(data_set)\n",
    "    total_col = (k+1)*(k+2)//2\n",
    "    total_row = len(data_set)\n",
    "    X_mat=[]\n",
    "    \n",
    "    for i in range(total_row):\n",
    "            temp_array = []\n",
    "            for u in range(k+1):\n",
    "                for v in range(u+1):\n",
    "                    temp_array.append(data_set[i][0]**(u-v)*data_set[i][1]**v)\n",
    "            X_mat.append(temp_array)        \n",
    "                  \n",
    "    return X_mat \n",
    "  \n",
    "X = getXmat(4,X_train_data)\n",
    "X=np.asarray(X)"
   ]
  },
  {
   "cell_type": "code",
   "execution_count": 161,
   "id": "1d5a0aca",
   "metadata": {},
   "outputs": [],
   "source": [
    "def getbeta(lambda_val):\n",
    "    \n",
    "    X_transpose= X.transpose()\n",
    "    X_prod=np.dot(X_transpose,X)  # Xt*X\n",
    "    Psuedo_inverse=np.linalg.pinv( X_prod + lambda_val* np.identity( len( np.linalg.pinv(X_prod) ) ) ) # (Xt*X + lambda * I) -1\n",
    "    prod=np.dot(Psuedo_inverse,X_transpose) # (XT * X + lambda I)-1 * XT\n",
    "    beta=np.dot(prod,Y_train_data)        # (X*T * X + lamnda*I ) -1 * XT * Y\n",
    "    return beta"
   ]
  },
  {
   "cell_type": "code",
   "execution_count": 162,
   "id": "c3ec1a51",
   "metadata": {},
   "outputs": [],
   "source": [
    "def getMeansquareerror (Y_pred, Y_actual) :\n",
    "    error = 0\n",
    "    for i in range(len(Y_pred)):\n",
    "        error = error + (Y_pred[i]-Y_actual[i])**2\n",
    "        \n",
    "    MSE = error/(len(Y_pred))\n",
    "    \n",
    "    return MSE"
   ]
  },
  {
   "cell_type": "code",
   "execution_count": 164,
   "id": "699fa3c3",
   "metadata": {},
   "outputs": [
    {
     "data": {
      "image/png": "[encoded data removed]",
      "text/plain": [
       "<Figure size 640x480 with 1 Axes>"
      ]
     },
     "metadata": {},
     "output_type": "display_data"
    },
    {
     "name": "stdout",
     "output_type": "stream",
     "text": [
      "0.1\n",
      "7107185.877995314\n"
     ]
    }
   ],
   "source": [
    "# MSE test vs lambda \n",
    "\n",
    "Y_actual = Y_train_data\n",
    "temp = 0.0\n",
    "\n",
    "MSE_values = []\n",
    "while(temp<50):\n",
    "    beta = getbeta(temp)\n",
    "    temp = temp + 0.1\n",
    "    Y_pred = np.dot(X,beta)\n",
    "    err = float(getMeansquareerror(Y_pred,Y_actual))\n",
    "    MSE_values.append(err)\n",
    "    \n",
    "lambdas = []\n",
    "t = 0\n",
    "for i in range(500):\n",
    "    t+=0.1\n",
    "    lambdas.append(t)\n",
    "    \n",
    "# print(MSE_values)    \n",
    "plt.title(\"MSE vs degree for train_data\")\n",
    "plt.xlabel(\"degree\")\n",
    "plt.ylabel(\"MSE\")\n",
    "plt.plot(lambdas, MSE_values)\n",
    "plt.show()\n",
    "\n",
    "min_index = MSE_values.index(min(MSE_values))\n",
    "optimal_lambda = 0.1*(min_index+1)\n",
    "print(optimal_lambda)\n",
    "print(min(MSE_values))"
   ]
  },
  {
   "cell_type": "markdown",
   "id": "b6fab17a",
   "metadata": {},
   "source": [
    "# MSE USING OPTIMAL LAMBDA FOR TRAIN AND TEST DATA"
   ]
  },
  {
   "cell_type": "code",
   "execution_count": null,
   "id": "9d65354e",
   "metadata": {},
   "outputs": [],
   "source": [
    "min_index = MSE_values.index(min(MSE_values))\n",
    "optimal_lambda = 0.1*min_index\n",
    "best_model_MSE_for_train_data = min(MSE_values)\n",
    "test_data = np.loadtxt(\"test32.csv\", delimiter=\",\", dtype=float)\n",
    "MSE_test = []\n",
    "temp = 0.1\n",
    "XX = getXmat(4,test_data[:20,:2])\n",
    "XX = np.asarray(XX)\n",
    "XX_transpose= XX.transpose()\n",
    "XX_prod=np.dot(XX_transpose,XX)  # Xt*X\n",
    "while(temp<50):\n",
    "    Psuedo_inverse=np.linalg.pinv( XX_prod + temp* np.identity( len( np.linalg.pinv(XX_prod) ) ) ) # (Xt*X + lambda * I) -1\n",
    "    prod=np.dot(Psuedo_inverse,XX_transpose) # (XT * X + lambda I)-1 * XT\n",
    "    beta=np.dot(prod,test_data[:20,2:3])        # (X*T * X + lamnda*I ) -1 * XT * Y\n",
    "    YY_pred = np.dot(XX,beta)\n",
    "    error_test_data = getMeansquareerror(YY_pred,test_data[:20,2:3])\n",
    "    MSE_test.append(error_test_data)\n",
    "MSE_train_data = min(MSE_values)\n",
    "MSE_test_data = min(MSE_test)\n",
    "print(MSE_train_data,MSE_test_data)\n",
    "     \n",
    "                       \n"
   ]
  },
  {
   "cell_type": "markdown",
   "id": "f830bd21",
   "metadata": {},
   "source": [
    "# PLOTTING FOR BEST LAMBDA FOR TRAINED DATA"
   ]
  },
  {
   "cell_type": "code",
   "execution_count": null,
   "id": "0e926232",
   "metadata": {},
   "outputs": [],
   "source": [
    "beta = getbeta(0.1)\n",
    "Y_pred = np.dot(X,beta)\n",
    "fig = plt.figure()\n",
    "ax = fig.add_subplot(111,projection='3d')\n",
    "X1 = trained_data_complete[:64,0:1]\n",
    "X2 = trained_data_complete[:64,1:2]\n",
    "Y  = trained_data_complete[:64,2:3]\n",
    "\n",
    "ax.scatter(X1,X2,Y_pred,c='b',label='predicted')\n",
    "ax.scatter(X1,X2,Y,c='r',marker='x',label='true')\n",
    "ax.set_xlabel('X1')\n",
    "ax.set_ylabel('X2')\n",
    "ax.set_zlabel('Value')\n",
    "ax.set_title('Best Model Fit 3D Scatter Plot for train data')\n",
    "ax.legend()\n",
    "plt.show()"
   ]
  },
  {
   "cell_type": "code",
   "execution_count": null,
   "id": "8973e1b7",
   "metadata": {},
   "outputs": [],
   "source": [
    "test_data = np.loadtxt(\"test32.csv\",\n",
    "                 delimiter=\",\", dtype=float)\n",
    "\n",
    "X = getXmat(4,test_data[:20,:2])\n",
    "X = np.asarray(X)\n",
    "X_transpose= X.transpose()\n",
    "X_prod=np.dot(X_transpose,X)  # Xt*X\n",
    "    \n",
    "Psuedo_inverse=np.linalg.pinv( X_prod + optimal_lambda* np.identity( len( np.linalg.pinv(X_prod) ) ) ) # (Xt*X + lambda * I) -1\n",
    "prod=np.dot(Psuedo_inverse,X_transpose) # (XT * X + lambda I)-1 * XT\n",
    "beta=np.dot(prod,test_data[:20,2:3])        # (X*T * X + lamnda*I ) -1 * XT * Y\n",
    "\n",
    "Y_pred = np.dot(X,beta)\n",
    "\n",
    "fig = plt.figure()\n",
    "ax = fig.add_subplot(111,projection='3d')\n",
    "X1 = test_data[:20,0:1]\n",
    "X2 = test_data[:20,1:2]\n",
    "Y  = test_data[:20,2:3]\n",
    "\n",
    "ax.scatter(X1,X2,Y_pred,c='b',label='predicted')\n",
    "ax.scatter(X1,X2,Y,c='r',marker='x',label='true')\n",
    "ax.set_xlabel('X1')\n",
    "ax.set_ylabel('X2')\n",
    "ax.set_zlabel('Value')\n",
    "ax.set_title('Model Fit 3D Scatter Plot')\n",
    "ax.legend()\n",
    "plt.show()"
   ]
  },
  {
   "cell_type": "code",
   "execution_count": null,
   "id": "d844dc74",
   "metadata": {},
   "outputs": [],
   "source": []
  }
 ],
 "metadata": {
  "kernelspec": {
   "display_name": "Python 3 (ipykernel)",
   "language": "python",
   "name": "python3"
  },
  "language_info": {
   "codemirror_mode": {
    "name": "ipython",
    "version": 3
   },
   "file_extension": ".py",
   "mimetype": "text/x-python",
   "name": "python",
   "nbconvert_exporter": "python",
   "pygments_lexer": "ipython3",
   "version": "3.9.13"
  }
 },
 "nbformat": 4,
 "nbformat_minor": 5
}
